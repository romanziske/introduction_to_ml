{
 "cells": [
  {
   "cell_type": "code",
   "execution_count": 2,
   "metadata": {},
   "outputs": [],
   "source": [
    "import numpy as np\n",
    "from sklearn.preprocessing import StandardScaler\n"
   ]
  },
  {
   "attachments": {},
   "cell_type": "markdown",
   "metadata": {},
   "source": [
    "# Excercise 1"
   ]
  },
  {
   "cell_type": "code",
   "execution_count": 49,
   "metadata": {},
   "outputs": [
    {
     "name": "stdout",
     "output_type": "stream",
     "text": [
      "[[ 0.50066848 -0.14048104  2.        ]\n",
      " [-0.08041109  0.51975015  1.        ]\n",
      " [-0.92645557  1.31986839  1.        ]\n",
      " [ 0.37578936  0.76477523  1.        ]\n",
      " [-1.47343531 -0.81496824  2.        ]\n",
      " [ 1.60384412 -1.64894449  3.        ]]\n"
     ]
    }
   ],
   "source": [
    "D = {((9.8,40.29),1),((-0.1,37.54),1),((-18.46,46.52),1),((-30.33,22.56),2),((12.51,30.13),2),((36.45,13.2),3)}\n",
    "                      \n",
    "X = np.array([x for x,y in D])\n",
    "Y = np.array([y for x,y in D]).reshape(-1,1)\n",
    "\n",
    "scaler = StandardScaler()\n",
    "scaler_fit = scaler.fit(X)\n",
    "X_scale = scaler_fit.transform(X)\n",
    "\n",
    "#combine X_scale and Y\n",
    "D_scale = np.hstack((X_scale,Y))\n",
    "print(D_scale)"
   ]
  },
  {
   "cell_type": "code",
   "execution_count": 46,
   "metadata": {},
   "outputs": [
    {
     "name": "stdout",
     "output_type": "stream",
     "text": [
      "[[-0.26934259 -0.91386927]]\n",
      "[2]\n"
     ]
    },
    {
     "name": "stderr",
     "output_type": "stream",
     "text": [
      "/Users/roman/Library/Python/3.9/lib/python/site-packages/sklearn/neighbors/_classification.py:215: DataConversionWarning: A column-vector y was passed when a 1d array was expected. Please change the shape of y to (n_samples,), for example using ravel().\n",
      "  return self._fit(X, y)\n"
     ]
    }
   ],
   "source": [
    "from sklearn.neighbors import KNeighborsClassifier\n",
    "\n",
    "knn = KNeighborsClassifier(n_neighbors=3)\n",
    "knn.fit(X_scale, Y)\n",
    "\n",
    "#predict\n",
    "x_7 = scaler_fit.transform(np.array([-4.2, 21.45]).reshape(1, -1))\n",
    "print(x_7)\n",
    "\n",
    "print(knn.predict(x_7))"
   ]
  },
  {
   "attachments": {},
   "cell_type": "markdown",
   "metadata": {},
   "source": [
    "# Excersise 2"
   ]
  },
  {
   "cell_type": "code",
   "execution_count": 77,
   "metadata": {},
   "outputs": [
    {
     "name": "stdout",
     "output_type": "stream",
     "text": [
      "K = 1\n",
      "[2]\n",
      "K = 3\n",
      "[2]\n",
      "K = 5\n",
      "[1]\n"
     ]
    },
    {
     "name": "stderr",
     "output_type": "stream",
     "text": [
      "/Users/roman/Library/Python/3.9/lib/python/site-packages/sklearn/neighbors/_classification.py:215: DataConversionWarning: A column-vector y was passed when a 1d array was expected. Please change the shape of y to (n_samples,), for example using ravel().\n",
      "  return self._fit(X, y)\n",
      "/Users/roman/Library/Python/3.9/lib/python/site-packages/sklearn/neighbors/_classification.py:215: DataConversionWarning: A column-vector y was passed when a 1d array was expected. Please change the shape of y to (n_samples,), for example using ravel().\n",
      "  return self._fit(X, y)\n",
      "/Users/roman/Library/Python/3.9/lib/python/site-packages/sklearn/neighbors/_classification.py:215: DataConversionWarning: A column-vector y was passed when a 1d array was expected. Please change the shape of y to (n_samples,), for example using ravel().\n",
      "  return self._fit(X, y)\n"
     ]
    }
   ],
   "source": [
    "D={((14.26,18.98),1),((9.45,8.61),1),((7.53,-0.7),1),((15.62,4.92),2),((17.47,-8.43),2),((6.66,-5.27),3)}\n",
    "\n",
    "X = np.array([x for x,y in D])\n",
    "Y = np.array([y for x,y in D]).reshape(-1,1)\n",
    "\n",
    "scaler = StandardScaler()\n",
    "scaler_fit = scaler.fit(X)\n",
    "X_scale = scaler_fit.transform(X)\n",
    "\n",
    "knn = KNeighborsClassifier(n_neighbors=1)\n",
    "knn.fit(X_scale, Y)\n",
    "\n",
    "#predict\n",
    "x_7 = scaler_fit.transform(np.array([13.92,-1.76]).reshape(1,-1))\n",
    "\n",
    "print(\"K = 1\")\n",
    "print(knn.predict(x_7))\n",
    "\n",
    "knn = KNeighborsClassifier(n_neighbors=3)\n",
    "knn.fit(X_scale, Y)\n",
    "\n",
    "#predict\n",
    "print(\"K = 3\")\n",
    "print(knn.predict(x_7))\n",
    "\n",
    "knn = KNeighborsClassifier(n_neighbors=5)\n",
    "knn.fit(X_scale, Y)\n",
    "\n",
    "#predict\n",
    "print(\"K = 5\")\n",
    "print(knn.predict(x_7))"
   ]
  },
  {
   "attachments": {},
   "cell_type": "markdown",
   "metadata": {},
   "source": [
    "# Excersise 3"
   ]
  },
  {
   "cell_type": "code",
   "execution_count": 84,
   "metadata": {},
   "outputs": [
    {
     "name": "stdout",
     "output_type": "stream",
     "text": [
      "[[-0.63833399  1.39290677]]\n",
      "[[3.6]]\n"
     ]
    }
   ],
   "source": [
    "from sklearn.neighbors import KNeighborsRegressor\n",
    "\n",
    "D={((3.1,4.1),5.9),((2.6,5.3),5.8),((9.7,9.3),2.3),((8.4,6.2),6.4),((3.3,8.3),2.7),((9.5,0.2),8.8)}\n",
    "\n",
    "X = np.array([x for x,y in D])\n",
    "Y = np.array([y for x,y in D]).reshape(-1,1)\n",
    "\n",
    "scaler = StandardScaler()\n",
    "scaler_fit = scaler.fit(X)\n",
    "X_scale = scaler_fit.transform(X)\n",
    "\n",
    "knn_reg = KNeighborsRegressor(n_neighbors=3)\n",
    "knn_reg.fit(X_scale, Y)\n",
    "\n",
    "#predict\n",
    "x_7 = scaler_fit.transform(np.array([4.1,9.7]).reshape(1,-1))\n",
    "print(x_7)\n",
    "\n",
    "print(knn_reg.predict(x_7))"
   ]
  }
 ],
 "metadata": {
  "kernelspec": {
   "display_name": "Python 3",
   "language": "python",
   "name": "python3"
  },
  "language_info": {
   "codemirror_mode": {
    "name": "ipython",
    "version": 3
   },
   "file_extension": ".py",
   "mimetype": "text/x-python",
   "name": "python",
   "nbconvert_exporter": "python",
   "pygments_lexer": "ipython3",
   "version": "3.9.6"
  },
  "orig_nbformat": 4
 },
 "nbformat": 4,
 "nbformat_minor": 2
}
