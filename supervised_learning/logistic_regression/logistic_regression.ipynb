{
 "cells": [
  {
   "cell_type": "code",
   "execution_count": 3,
   "metadata": {},
   "outputs": [],
   "source": [
    "import numpy as np\n",
    "from sklearn.linear_model import LogisticRegression"
   ]
  },
  {
   "attachments": {},
   "cell_type": "markdown",
   "metadata": {},
   "source": [
    "# Exercise 1"
   ]
  },
  {
   "cell_type": "code",
   "execution_count": 4,
   "metadata": {},
   "outputs": [
    {
     "name": "stdout",
     "output_type": "stream",
     "text": [
      "[[-0.58628081  0.452637  ]]\n",
      "[1.75862762]\n"
     ]
    }
   ],
   "source": [
    "X = np.array([[16,22],[43,70],[135,50],[42,46],[60,59],[105,140]])\n",
    "y = np.array([1,1,0,0,0,1])\n",
    "\n",
    "logist_reg = LogisticRegression()\n",
    "logist_reg.fit(X,y)\n",
    "\n",
    "print(logist_reg.coef_)\n",
    "print(logist_reg.intercept_)"
   ]
  },
  {
   "attachments": {},
   "cell_type": "markdown",
   "metadata": {},
   "source": [
    "# Exercise 2"
   ]
  },
  {
   "cell_type": "code",
   "execution_count": 23,
   "metadata": {},
   "outputs": [
    {
     "name": "stdout",
     "output_type": "stream",
     "text": [
      "[[ 0.06417252 -0.20185234  0.38646318 -0.63534262  0.32988182]]\n",
      "[-11.26416611]\n"
     ]
    }
   ],
   "source": [
    "from sklearn.preprocessing import PolynomialFeatures\n",
    "\n",
    "X = np.array([[12,11],[13,14],[11,8],[6,2],[12,10],[7,11]])\n",
    "y = np.array([0,1,1,0,0,0])\n",
    "\n",
    "poly = PolynomialFeatures(degree=2,include_bias=False)\n",
    "poly_X = poly.fit_transform(X)\n",
    "\n",
    "logist_reg = LogisticRegression()\n",
    "logist_reg.fit(poly_X,y)\n",
    "\n",
    "print(logist_reg.coef_)\n",
    "print(logist_reg.intercept_)"
   ]
  },
  {
   "attachments": {},
   "cell_type": "markdown",
   "metadata": {},
   "source": [
    "# Exercise 3"
   ]
  },
  {
   "cell_type": "code",
   "execution_count": 21,
   "metadata": {},
   "outputs": [
    {
     "name": "stdout",
     "output_type": "stream",
     "text": [
      "[0 0 1 1 0 0]\n",
      "[14.689, -0.789, -0.246]\n",
      "[1 1 0 0 0 0]\n",
      "[-0.917, -0.03, 0.024]\n",
      "[0 0 0 0 1 1]\n",
      "[-5.138, 0.196, 0.053]\n"
     ]
    }
   ],
   "source": [
    "X = np.array([[1,80],[20,3],[5,0],[13,12],[60,30],[10,40]])\n",
    "y = np.array([2,2,1,1,3,3])\n",
    "\n",
    "\n",
    "for i in range(1, len(set(y.flatten())) + 1):\n",
    "    y_i = np.array([(1 if j == i else 0 )for j in y.flatten()])\n",
    "\n",
    "    loist_reg = LogisticRegression()\n",
    "\n",
    "    logist_reg.fit(X,y_i)\n",
    "\n",
    "    thetas = [round(t, 3) for t in np.append(logist_reg.intercept_,logist_reg.coef_)]\n",
    "    print(thetas)\n",
    "\n"
   ]
  },
  {
   "attachments": {},
   "cell_type": "markdown",
   "metadata": {},
   "source": [
    "# Exercsise 4"
   ]
  },
  {
   "cell_type": "code",
   "execution_count": 22,
   "metadata": {},
   "outputs": [
    {
     "name": "stdout",
     "output_type": "stream",
     "text": [
      "[-0.696, 0.043, -0.04, 0.03, -0.006, -0.032]\n",
      "[-1.567, -0.008, -0.099, -0.009, -0.036, -0.055]\n",
      "[-0.791, 0.062, 0.178, 0.038, 0.082, 0.113]\n",
      "[-1.551, -0.098, -0.04, -0.06, -0.04, -0.027]\n"
     ]
    }
   ],
   "source": [
    "X = np.array([[0.3,0.3],[0.24,0.26],[0.33,0.2],[0.35,0.4],[0.39,0.38],[0.42,0.26]])\n",
    "y = np.array([1,4,2,3,3,1])\n",
    "\n",
    "poly = PolynomialFeatures(degree=2,include_bias=False)\n",
    "poly_X = poly.fit_transform(X)\n",
    "\n",
    "for i in range(1, len(set(y.flatten())) + 1):\n",
    "    y_i = np.array([(1 if j == i else 0 )for j in y.flatten()])\n",
    "\n",
    "    loist_reg = LogisticRegression()\n",
    "\n",
    "    logist_reg.fit(poly_X,y_i)\n",
    "\n",
    "    thetas = [round(t, 3) for t in np.append(logist_reg.intercept_,logist_reg.coef_)]\n",
    "    print(thetas)"
   ]
  }
 ],
 "metadata": {
  "kernelspec": {
   "display_name": "Python 3",
   "language": "python",
   "name": "python3"
  },
  "language_info": {
   "codemirror_mode": {
    "name": "ipython",
    "version": 3
   },
   "file_extension": ".py",
   "mimetype": "text/x-python",
   "name": "python",
   "nbconvert_exporter": "python",
   "pygments_lexer": "ipython3",
   "version": "3.9.6"
  },
  "orig_nbformat": 4
 },
 "nbformat": 4,
 "nbformat_minor": 2
}
