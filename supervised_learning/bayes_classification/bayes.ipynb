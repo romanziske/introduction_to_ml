{
 "cells": [
  {
   "cell_type": "code",
   "execution_count": 1,
   "metadata": {},
   "outputs": [],
   "source": [
    "import numpy as np\n",
    "from sklearn.naive_bayes import GaussianNB"
   ]
  },
  {
   "attachments": {},
   "cell_type": "markdown",
   "metadata": {},
   "source": [
    "# Excersice 1"
   ]
  },
  {
   "cell_type": "code",
   "execution_count": 3,
   "metadata": {},
   "outputs": [
    {
     "name": "stdout",
     "output_type": "stream",
     "text": [
      "[0]\n"
     ]
    },
    {
     "name": "stderr",
     "output_type": "stream",
     "text": [
      "/Users/roman/Library/Python/3.9/lib/python/site-packages/sklearn/utils/validation.py:1143: DataConversionWarning: A column-vector y was passed when a 1d array was expected. Please change the shape of y to (n_samples, ), for example using ravel().\n",
      "  y = column_or_1d(y, warn=True)\n"
     ]
    }
   ],
   "source": [
    "D = {((0,50),0),((1,200),2),((2,200),1),((0,100),1),((1,50),0),((0,200),2)}\n",
    "Z = {0, 1, 2}\n",
    "\n",
    "X = np.array([x for x,y in D])\n",
    "Y = np.array([y for x,y in D]).reshape(-1,1)\n",
    "\n",
    "clf = GaussianNB().fit(X, Y)\n",
    "\n",
    "x_7 = np.array([2, 50]).reshape(1,-1)\n",
    "\n",
    "print(clf.predict(x_7))"
   ]
  },
  {
   "attachments": {},
   "cell_type": "markdown",
   "metadata": {},
   "source": [
    "# Excersice 2"
   ]
  },
  {
   "cell_type": "code",
   "execution_count": 12,
   "metadata": {},
   "outputs": [
    {
     "name": "stdout",
     "output_type": "stream",
     "text": [
      "[0 0 0 1]\n"
     ]
    },
    {
     "name": "stderr",
     "output_type": "stream",
     "text": [
      "/Users/roman/Library/Python/3.9/lib/python/site-packages/sklearn/utils/validation.py:1143: DataConversionWarning: A column-vector y was passed when a 1d array was expected. Please change the shape of y to (n_samples, ), for example using ravel().\n",
      "  y = column_or_1d(y, warn=True)\n"
     ]
    }
   ],
   "source": [
    "D_train = {((1.29,-1.83),1),((0.76,-0.95),1),((5.24,-1.59),0),((8.74,-0.27),0),((2.77,-2.23),0),((1.24,-1.65),1)}\n",
    "D_test = {((0.62,-1.58),1),((6.82,0.07),0),((2.64,-0.15),1),((3.23,-1.58),0)}\n",
    "\n",
    "X_train = np.array([x for x,y in D_train])\n",
    "Y_train = np.array([y for x,y in D_train]).reshape(-1,1)\n",
    "\n",
    "X_test = np.array([x for x,y in D_test])\n",
    "Y_test = np.array([y for x,y in D_test]).reshape(-1,1)\n",
    "\n",
    "clf = GaussianNB().fit(X_train, Y_train)\n",
    "\n",
    "print(clf.predict(X_test))"
   ]
  },
  {
   "cell_type": "code",
   "execution_count": 5,
   "metadata": {},
   "outputs": [
    {
     "name": "stdout",
     "output_type": "stream",
     "text": [
      "0.75\n",
      "1.0\n",
      "0.5\n",
      "0.6666666666666666\n"
     ]
    }
   ],
   "source": [
    "from sklearn.metrics import accuracy_score, precision_score, recall_score, f1_score\n",
    "\n",
    "print(accuracy_score(Y_test, clf.predict(X_test)))\n",
    "print(precision_score(Y_test, clf.predict(X_test)))\n",
    "print(recall_score(Y_test, clf.predict(X_test)))\n",
    "print(f1_score(Y_test, clf.predict(X_test)))\n"
   ]
  }
 ],
 "metadata": {
  "kernelspec": {
   "display_name": "Python 3",
   "language": "python",
   "name": "python3"
  },
  "language_info": {
   "codemirror_mode": {
    "name": "ipython",
    "version": 3
   },
   "file_extension": ".py",
   "mimetype": "text/x-python",
   "name": "python",
   "nbconvert_exporter": "python",
   "pygments_lexer": "ipython3",
   "version": "3.9.6"
  },
  "orig_nbformat": 4
 },
 "nbformat": 4,
 "nbformat_minor": 2
}
