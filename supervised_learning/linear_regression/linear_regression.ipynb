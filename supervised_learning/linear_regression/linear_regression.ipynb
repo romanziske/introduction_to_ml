{
 "cells": [
  {
   "cell_type": "code",
   "execution_count": 9,
   "metadata": {},
   "outputs": [
    {
     "name": "stdout",
     "output_type": "stream",
     "text": [
      "\u001b[33mWARNING: You are using pip version 21.2.4; however, version 23.1.1 is available.\n",
      "You should consider upgrading via the '/Library/Developer/CommandLineTools/usr/bin/python3 -m pip install --upgrade pip' command.\u001b[0m\n",
      "Note: you may need to restart the kernel to use updated packages.\n"
     ]
    }
   ],
   "source": [
    "%pip install -q scikit-learn numpy"
   ]
  },
  {
   "cell_type": "code",
   "execution_count": 10,
   "metadata": {},
   "outputs": [],
   "source": [
    "import numpy as np\n",
    "from sklearn.preprocessing import PolynomialFeatures\n",
    "from sklearn import linear_model"
   ]
  },
  {
   "attachments": {},
   "cell_type": "markdown",
   "metadata": {},
   "source": [
    "# Exercise 1"
   ]
  },
  {
   "cell_type": "code",
   "execution_count": 28,
   "metadata": {},
   "outputs": [],
   "source": [
    "# prepare data\n",
    "\n",
    "X = np.array([[23,36],[23,34],[26,29],[21,40],[20,33],[25,35]])\n",
    "y = np.array([0.1,0,1.2,-0.5,-1.5,0.7])"
   ]
  },
  {
   "cell_type": "code",
   "execution_count": 29,
   "metadata": {},
   "outputs": [
    {
     "name": "stdout",
     "output_type": "stream",
     "text": [
      "[0.44507793 0.04872847]\n",
      "-11.917924528301889\n"
     ]
    }
   ],
   "source": [
    "\n",
    "reg = linear_model.LinearRegression()\n",
    "reg.fit(X,y)\n",
    "\n",
    "print(reg.coef_)\n",
    "print(reg.intercept_)"
   ]
  },
  {
   "attachments": {},
   "cell_type": "markdown",
   "metadata": {},
   "source": [
    "# Exercise 2"
   ]
  },
  {
   "cell_type": "code",
   "execution_count": 30,
   "metadata": {},
   "outputs": [
    {
     "name": "stdout",
     "output_type": "stream",
     "text": [
      "[[ 0.5   4.4   0.25  2.2  19.36]\n",
      " [ 1.    4.    1.    4.   16.  ]\n",
      " [ 1.5   3.8   2.25  5.7  14.44]\n",
      " [ 1.6   3.7   2.56  5.92 13.69]\n",
      " [ 1.2   5.2   1.44  6.24 27.04]\n",
      " [ 0.7   4.3   0.49  3.01 18.49]]\n"
     ]
    }
   ],
   "source": [
    "# prepare data\n",
    "\n",
    "X = np.array([[0.5,4.4],[1,4.0],[1.5,3.8],[1.6,3.7],[1.2,5.2],[0.7,4.3]])\n",
    "y = np.array([6.8,8.1,9.3,11.1,11.6,13.6])\n",
    "poly = PolynomialFeatures(degree=2,include_bias=False)\n",
    "poly_X = poly.fit_transform(X)\n",
    "print(poly_X)"
   ]
  },
  {
   "cell_type": "code",
   "execution_count": 31,
   "metadata": {},
   "outputs": [
    {
     "name": "stdout",
     "output_type": "stream",
     "text": [
      "[1488.40846349  353.98329096 -180.84211164 -266.0540017    -3.9338903 ]\n",
      "-1588.2412640756252\n"
     ]
    }
   ],
   "source": [
    "reg = linear_model.LinearRegression()\n",
    "reg.fit(poly_X,y)\n",
    "\n",
    "print(reg.coef_)\n",
    "print(reg.intercept_)"
   ]
  },
  {
   "attachments": {},
   "cell_type": "markdown",
   "metadata": {},
   "source": [
    "# Exercise 3"
   ]
  },
  {
   "cell_type": "code",
   "execution_count": 23,
   "metadata": {},
   "outputs": [
    {
     "name": "stdout",
     "output_type": "stream",
     "text": [
      "[[ 17.5   20.   306.25 350.   400.  ]\n",
      " [ 21.5   23.   462.25 494.5  529.  ]\n",
      " [ 19.    19.   361.   361.   361.  ]\n",
      " [ 20.    18.   400.   360.   324.  ]\n",
      " [ 22.5   16.   506.25 360.   256.  ]\n",
      " [ 20.5   15.   420.25 307.5  225.  ]]\n"
     ]
    }
   ],
   "source": [
    "# prepare data\n",
    "\n",
    "X = np.array([[17.5,20],[21.5,23],[19,19],[20,18],[22.5,16],[20.5,15]])\n",
    "y = np.array([0.85,0.9,1.1,1,1.1,0.8])\n",
    "poly = PolynomialFeatures(degree=2,include_bias=False)\n",
    "poly_X = poly.fit_transform(X)\n",
    "print(poly_X)\n"
   ]
  },
  {
   "cell_type": "code",
   "execution_count": 24,
   "metadata": {},
   "outputs": [
    {
     "name": "stdout",
     "output_type": "stream",
     "text": [
      "[-0.06191663  0.22686973 -0.00184305  0.00984303 -0.01145304]\n",
      "-0.8999117645937594\n"
     ]
    }
   ],
   "source": [
    "reg = linear_model.Ridge(alpha=0.2)\n",
    "reg.fit(poly_X,y)\n",
    "\n",
    "print(reg.coef_)\n",
    "print(reg.intercept_)"
   ]
  },
  {
   "attachments": {},
   "cell_type": "markdown",
   "metadata": {},
   "source": [
    "# Exercise 4"
   ]
  },
  {
   "cell_type": "code",
   "execution_count": 26,
   "metadata": {},
   "outputs": [],
   "source": [
    "# prepare data\n",
    "\n",
    "X = np.array([[12,7],[10,8],[10,7.5],[15,5],[16,9],[18,8]])\n",
    "y = np.array([5.5,6,7,6.5,7.5,10])"
   ]
  },
  {
   "cell_type": "code",
   "execution_count": 27,
   "metadata": {},
   "outputs": [
    {
     "name": "stdout",
     "output_type": "stream",
     "text": [
      "[0.34710592 0.36072884]\n",
      "-0.2780020898709097\n"
     ]
    }
   ],
   "source": [
    "reg = linear_model.Ridge(alpha=0.1)\n",
    "reg.fit(X,y)\n",
    "\n",
    "print(reg.coef_)\n",
    "print(reg.intercept_)"
   ]
  }
 ],
 "metadata": {
  "kernelspec": {
   "display_name": "Python 3",
   "language": "python",
   "name": "python3"
  },
  "language_info": {
   "codemirror_mode": {
    "name": "ipython",
    "version": 3
   },
   "file_extension": ".py",
   "mimetype": "text/x-python",
   "name": "python",
   "nbconvert_exporter": "python",
   "pygments_lexer": "ipython3",
   "version": "3.9.6"
  },
  "orig_nbformat": 4,
  "vscode": {
   "interpreter": {
    "hash": "31f2aee4e71d21fbe5cf8b01ff0e069b9275f58929596ceb00d14d90e3e16cd6"
   }
  }
 },
 "nbformat": 4,
 "nbformat_minor": 2
}
