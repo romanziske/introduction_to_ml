{
 "cells": [
  {
   "cell_type": "code",
   "execution_count": 9,
   "metadata": {},
   "outputs": [],
   "source": [
    "import numpy as np\n",
    "from sklearn.decomposition import PCA\n",
    "from sklearn.preprocessing import StandardScaler"
   ]
  },
  {
   "cell_type": "code",
   "execution_count": 13,
   "metadata": {},
   "outputs": [
    {
     "name": "stdout",
     "output_type": "stream",
     "text": [
      "[2.06515774 1.17153874]\n"
     ]
    }
   ],
   "source": [
    "E=np.array([[-1.222,-1.297,-1.648],[-0.604,-0.208,1.436],[1.247,0.809,-0.414],[1.247,1.826,-0.846],[-0.693,0.301,1.128],[-0.869,-1.006,0.141],[0.894,-0.425,0.203]])\n",
    "\n",
    "# Standardize the data\n",
    "E_std = StandardScaler().fit_transform(E)\n",
    "\n",
    "pca = PCA(n_components=2).fit(E_std)\n",
    "print(pca.explained_variance_)\n",
    "\n"
   ]
  },
  {
   "cell_type": "code",
   "execution_count": 14,
   "metadata": {},
   "outputs": [
    {
     "name": "stdout",
     "output_type": "stream",
     "text": [
      "[2.06515774 1.17153874 0.26330352]\n"
     ]
    }
   ],
   "source": [
    "\n",
    "pca = PCA(n_components=3).fit(E_std)\n",
    "print(pca.explained_variance_)"
   ]
  }
 ],
 "metadata": {
  "kernelspec": {
   "display_name": "Python 3",
   "language": "python",
   "name": "python3"
  },
  "language_info": {
   "codemirror_mode": {
    "name": "ipython",
    "version": 3
   },
   "file_extension": ".py",
   "mimetype": "text/x-python",
   "name": "python",
   "nbconvert_exporter": "python",
   "pygments_lexer": "ipython3",
   "version": "3.9.6"
  },
  "orig_nbformat": 4
 },
 "nbformat": 4,
 "nbformat_minor": 2
}
